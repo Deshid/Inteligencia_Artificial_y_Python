{
  "nbformat": 4,
  "nbformat_minor": 0,
  "metadata": {
    "colab": {
      "provenance": [],
      "include_colab_link": true
    },
    "kernelspec": {
      "name": "python3",
      "display_name": "Python 3"
    },
    "language_info": {
      "name": "python"
    }
  },
  "cells": [
    {
      "cell_type": "markdown",
      "metadata": {
        "id": "view-in-github",
        "colab_type": "text"
      },
      "source": [
        "<a href=\"https://colab.research.google.com/github/Deshid/Practica_Python/blob/main/2_Algebra_Lineal_y_probabilidad_aplicada_a_IA.ipynb\" target=\"_parent\"><img src=\"https://colab.research.google.com/assets/colab-badge.svg\" alt=\"Open In Colab\"/></a>"
      ]
    },
    {
      "cell_type": "markdown",
      "source": [
        "Material original entregado por @JaznaLaProfe en GitHub. Aquí agregaré notas para mi aprendizaje."
      ],
      "metadata": {
        "id": "XebK7lRRNdgo"
      }
    },
    {
      "cell_type": "code",
      "source": [
        "import numpy as np\n",
        "import matplotlib.pyplot as plt\n",
        "from scipy.stats import norm\n",
        "from sklearn.preprocessing import StandardScaler, normalize"
      ],
      "metadata": {
        "id": "lvy3x4cucj2k"
      },
      "execution_count": null,
      "outputs": []
    },
    {
      "cell_type": "markdown",
      "source": [
        "# Álgebra lineal"
      ],
      "metadata": {
        "id": "84pNFyiVcYXR"
      }
    },
    {
      "cell_type": "markdown",
      "source": [
        "## Producto punto entre vectores\n",
        "\n",
        "El producto punto (o producto escalar) es una operación fundamental en álgebra lineal y se usa en muchos algoritmos de IA, como en redes neuronales y en métodos de optimización."
      ],
      "metadata": {
        "id": "eXL-_KO0cgD1"
      }
    },
    {
      "cell_type": "code",
      "execution_count": null,
      "metadata": {
        "colab": {
          "base_uri": "https://localhost:8080/"
        },
        "id": "jX_r0090cKIZ",
        "outputId": "429ff7ae-3943-4cc6-f082-88cbba2b2656"
      },
      "outputs": [
        {
          "output_type": "stream",
          "name": "stdout",
          "text": [
            "Producto Punto: 32\n"
          ]
        }
      ],
      "source": [
        "# Definir dos vectores\n",
        "x_vector = np.array([1, 2, 3])\n",
        "y_vector = np.array([4, 5, 6])\n",
        "\n",
        "# Calcular el producto punto\n",
        "producto_punto = np.dot(x_vector, y_vector)\n",
        "\n",
        "print(\"Producto Punto:\", producto_punto)\n"
      ]
    },
    {
      "cell_type": "markdown",
      "source": [
        "## Multiplicación de matrices\n",
        "\n",
        "La multiplicación de matrices es esencial en IA, especialmente en la propagación hacia adelante y hacia atrás en redes neuronales."
      ],
      "metadata": {
        "id": "QXz6Fnz9cyMX"
      }
    },
    {
      "cell_type": "code",
      "source": [
        "# Definir dos matrices\n",
        "matriz_a = np.array([[1, 2, 3],\n",
        "                     [4, 5, 6]])\n",
        "matriz_b = np.array([[7, 8],\n",
        "                     [9, 10],\n",
        "                     [11, 12]])\n",
        "\n",
        "# Calcular la multiplicación de matrices\n",
        "resultado = np.dot(matriz_a, matriz_b)\n",
        "\n",
        "print(\"Multiplicación de Matrices:\\n\", resultado)\n"
      ],
      "metadata": {
        "id": "3osntf10c1nX",
        "colab": {
          "base_uri": "https://localhost:8080/"
        },
        "outputId": "d5293e88-ef33-4292-cd66-a21c13e5ea16"
      },
      "execution_count": null,
      "outputs": [
        {
          "output_type": "stream",
          "name": "stdout",
          "text": [
            "Multiplicación de Matrices:\n",
            " [[ 58  64]\n",
            " [139 154]]\n"
          ]
        }
      ]
    },
    {
      "cell_type": "markdown",
      "source": [
        "# Vector ortogonal\n",
        "\n",
        "Dos vectores se consideran ortogonales si su producto punto (producto escalar) es igual a cero. Es decir, los vectores son perpendiculares entre sí en el espacio n-dimensional. En el espacio bidimensional y tridimensional, los vectores ortogonales son aquellos que forman un ángulo de 90 grados.\n",
        "\n",
        "Propiedad de los Vectores Ortogonales:\n",
        "Dado dos vectores\n",
        "$𝑎=(𝑎_1,𝑎_2,…,𝑎_𝑛)$ y $𝑏=(𝑏_1,𝑏_2,…,𝑏_𝑛)$, estos son ortogonales si:\n",
        "\n",
        "$𝑎⋅𝑏=𝑎_1⋅𝑏_1+𝑎_2⋅𝑏_2+…+𝑎_𝑛⋅𝑏_𝑛=0$\n"
      ],
      "metadata": {
        "id": "5UFPfludNYwH"
      }
    },
    {
      "cell_type": "code",
      "source": [
        "# Definimos dos vectores\n",
        "a = np.array([1, 2, 3])\n",
        "b = np.array([4, -2, 0])\n",
        "\n",
        "# Calculamos el producto punto\n",
        "dot_product = np.dot(a, b)\n",
        "\n",
        "# Verificamos si los vectores son ortogonales\n",
        "print(\"Los vectores son ortogonales.\" if dot_product == 0 else \"Los vectores no son ortogonales.\")\n",
        "print(f\"Producto punto: {dot_product}\")\n"
      ],
      "metadata": {
        "colab": {
          "base_uri": "https://localhost:8080/"
        },
        "id": "L91FdTp6PmCn",
        "outputId": "184ebe3f-90c7-4072-85d5-8f3153a96ede"
      },
      "execution_count": null,
      "outputs": [
        {
          "output_type": "stream",
          "name": "stdout",
          "text": [
            "Los vectores son ortogonales.\n",
            "Producto punto: 0\n"
          ]
        }
      ]
    },
    {
      "cell_type": "markdown",
      "source": [
        "# Matriz ortogonal\n",
        "\n",
        "Una matriz es ortogonal si sus columnas (y filas) son vectores ortogonales unitarios, es decir, los vectores son perpendiculares entre sí y tienen una longitud de 1. Matemáticamente, una matriz cuadrada 𝐴 de tamaño 𝑛×𝑛 es ortogonal si cumple con la siguiente condición:\n",
        "\n",
        "$𝐴^𝑇𝐴$=𝐴$𝐴^𝑇$=𝐼\n",
        "\n",
        "donde:\n",
        "\n",
        "$𝐴^𝑇$ es la transpuesta de la matriz 𝐴.\n",
        "𝐼 es la matriz identidad de tamaño 𝑛×𝑛.\n",
        "\n",
        "**Propiedades de una Matriz Ortogonal**\n",
        "+ Vectores Ortogonales y Normalizados: las columnas (o filas) de una matriz ortogonal son vectores ortogonales entre sí (es decir, su producto punto es cero) y son vectores unitarios (es decir, su norma es 1).\n",
        "\n",
        "+ Preservación de Longitudes y Ángulos: la transformación lineal que representa una matriz ortogonal preserva las longitudes de los vectores y los ángulos entre ellos. Por lo tanto, una matriz ortogonal representa una transformación rígida (como una rotación o reflexión).\n",
        "\n",
        "+ Inversa Igual a la Transpuesta: Para una matriz ortogonal\n",
        "𝐴, la inversa de la matriz es igual a su transpuesta: $𝐴^{−1}$=$𝐴^𝑇$\n",
        "\n",
        "+ Determinante Igual a ±1: el determinante de una matriz ortogonal es siempre +1 o −1. Esto implica que no cambia el volumen de los vectores transformados (lo preserva o lo refleja).\n",
        "\n",
        "**Ejemplo de una matriz ortogonal**\n",
        "Una matriz de rotación de 90º en el plano 2D es un ejemplo clásico de matriz ortogonal: *A* =$\\begin{equation}\n",
        "\\begin{bmatrix}\n",
        "0 & -1 \\\\\n",
        "1 & 0\\\\\n",
        "\\end{bmatrix}\n",
        "\\end{equation}$\n",
        "\n",
        "Para verificar que *A* es ortogonal, se puede comprobar que:\n",
        "\n",
        "$A^T$=$\\begin{equation}\n",
        "\\begin{bmatrix}\n",
        "0 & 1 \\\\\n",
        "-1 & 0\\\\\n",
        "\\end{bmatrix}\n",
        "\\end{equation}$$\\begin{equation}\n",
        "\\begin{bmatrix}\n",
        "0 & -1 \\\\\n",
        "1 & 0\\\\\n",
        "\\end{bmatrix}\n",
        "\\end{equation}$=$\\begin{equation}\n",
        "\\begin{bmatrix}\n",
        "1 & 0 \\\\\n",
        "0 & 1\\\\\n",
        "\\end{bmatrix}\n",
        "\\end{equation}$\n",
        "\n",
        "Dado que el resultado es la matriz identidad, entonces *A* es ortogonal!!!.\n"
      ],
      "metadata": {
        "id": "X1RZ4Ffnd8ba"
      }
    },
    {
      "cell_type": "markdown",
      "source": [
        "# Vector propio\n",
        "\n",
        "Un vector propio (o autovector) de una matriz es un vector no nulo que cambia de magnitud pero no de dirección cuando se aplica la matriz a él. Es decir, si se tiene una matriz\n",
        "𝐴 y un vector 𝑣, el vector 𝑣 es un vector propio de 𝐴 si cumple con la siguiente ecuación:\n",
        "\n",
        "𝐴𝑣=𝜆𝑣 donde:\n",
        "\n",
        "+ 𝐴 es una matriz cuadrada.\n",
        "+ 𝑣 es el vector propio.\n",
        "+ 𝜆 es un valor propio (o autovalor), que es un escalar.\n",
        "\n",
        "El valor propio asociado a un vector propio indica en qué medida se escala el vector propio cuando se aplica la matriz 𝐴.\n",
        "\n"
      ],
      "metadata": {
        "id": "QlShjrywQXY3"
      }
    },
    {
      "cell_type": "code",
      "source": [
        "# Define una matriz cuadrada\n",
        "A = np.array([[4, 1],\n",
        "              [2, 3]])\n",
        "\n",
        "# Calcula los valores propios (autovalores) y los vectores propios (autovectores)\n",
        "valores_propios, vectores_propios = np.linalg.eig(A)\n",
        "\n",
        "print(\"Valores Propios:\")\n",
        "print(valores_propios)\n",
        "\n",
        "print(\"\\nVectores Propios:\")\n",
        "print(vectores_propios)\n"
      ],
      "metadata": {
        "colab": {
          "base_uri": "https://localhost:8080/"
        },
        "id": "l19xLiRjQZab",
        "outputId": "6622f34b-61ed-4abf-cc00-9848d31bd80b"
      },
      "execution_count": null,
      "outputs": [
        {
          "output_type": "stream",
          "name": "stdout",
          "text": [
            "Valores Propios:\n",
            "[5. 2.]\n",
            "\n",
            "Vectores Propios:\n",
            "[[ 0.70710678 -0.4472136 ]\n",
            " [ 0.70710678  0.89442719]]\n"
          ]
        }
      ]
    },
    {
      "cell_type": "markdown",
      "source": [
        "## Descomposición en valores singulares (SVD)\n",
        "\n",
        "SVD es una técnica importante en la reducción de dimensionalidad y se utiliza en métodos como PCA y en el tratamiento de datos en IA.\n"
      ],
      "metadata": {
        "id": "Afxgxf4mdDBu"
      }
    },
    {
      "cell_type": "markdown",
      "source": [
        "Es una técnica que descompone una matriz en tres matrices:\n",
        "𝑈,𝑆 y $𝑉^𝑇$. Esta descomposición es muy útil en diversas áreas, como el análisis de datos, la reducción de dimensionalidad, la compresión de imágenes, entre otros.\n",
        "\n",
        "Funciona de la siguiente manera: para una matriz 𝐴 de dimensión $𝑚×𝑛$ la descomposición en valores singulares se expresa como:\n",
        "\n",
        "$𝐴=𝑈⋅𝑆⋅𝑉^𝑇$\n",
        "\n",
        "donde:\n",
        "+ 𝑈 es una matriz ortogonal de tamaño 𝑚×𝑚. Sus columnas son los vectores propios de $𝐴𝐴^T$\n",
        "+ 𝑆 es una matriz diagonal de tamaño 𝑚×𝑛, que contiene los valores singulares de 𝐴 ordenados de mayor a menor.\n",
        "+ $𝑉^𝑇$ es la transpuesta de una matriz ortogonal 𝑉 de tamaño 𝑛×𝑛. Sus columnas son los vectores propios de $𝐴^𝑇𝐴$."
      ],
      "metadata": {
        "id": "T6uQ7IMEZfgP"
      }
    },
    {
      "cell_type": "markdown",
      "source": [
        "![Sin título.png](data:image/png;base64,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)"
      ],
      "metadata": {
        "id": "HeIdf_AbRQV9"
      }
    },
    {
      "cell_type": "code",
      "source": [
        "# Crear una matriz\n",
        "matriz = np.array([[1, 2, 3],\n",
        "                   [4, 5, 6],\n",
        "                   [7, 8, 9]])\n",
        "\n",
        "# Aplicar SVD\n",
        "U, S, Vt = np.linalg.svd(matriz)\n",
        "print(\"A:\\n\", matriz)\n",
        "print(\"-\"*50)\n",
        "print(\"Matriz U:\\n\", U)\n",
        "print(\"-\"*50)\n",
        "print(\"Valores singulares S:\\n\", S)\n",
        "print(\"-\"*50)\n",
        "print(\"Matriz V traspuesta:\\n\", Vt)\n"
      ],
      "metadata": {
        "id": "VlFBPmOpdIBB",
        "colab": {
          "base_uri": "https://localhost:8080/"
        },
        "outputId": "e2fe9707-fa69-4e1d-9cdc-692729486fa5"
      },
      "execution_count": null,
      "outputs": [
        {
          "output_type": "stream",
          "name": "stdout",
          "text": [
            "A:\n",
            " [[1 2 3]\n",
            " [4 5 6]\n",
            " [7 8 9]]\n",
            "--------------------------------------------------\n",
            "Matriz U:\n",
            " [[-0.21483724  0.88723069  0.40824829]\n",
            " [-0.52058739  0.24964395 -0.81649658]\n",
            " [-0.82633754 -0.38794278  0.40824829]]\n",
            "--------------------------------------------------\n",
            "Valores singulares S:\n",
            " [1.68481034e+01 1.06836951e+00 4.41842475e-16]\n",
            "--------------------------------------------------\n",
            "Matriz V traspuesta:\n",
            " [[-0.47967118 -0.57236779 -0.66506441]\n",
            " [-0.77669099 -0.07568647  0.62531805]\n",
            " [-0.40824829  0.81649658 -0.40824829]]\n"
          ]
        }
      ]
    },
    {
      "cell_type": "markdown",
      "source": [
        "1. Matriz 𝑈: esta es una matriz ortogonal que contiene los vectores propios de 𝐴$𝐴^𝑇$. Dado que 𝐴 es una matriz de tamaño\n",
        "3×3, 𝑈 también será de tamaño 3×3. Cada columna de 𝑈 es un vector propio de 𝐴$𝐴^𝑇$ y está normalizada.\n",
        "\n",
        "2. Valores singulares 𝑆:𝑆 contiene los valores singulares de la matriz original, que son las raíces cuadradas de los valores propios de $𝐴^𝑇$𝐴. Estos valores están ordenados de mayor a menor. En NumPy, np.linalg.svd devuelve 𝑆 como un vector de valores singulares (no como una matriz diagonal), por lo que el resultado es un vector de tamaño 3 para esta matriz 3x3.\n",
        "\n",
        "3. Matriz $𝑉^𝑇$: esta es la transpuesta de la matriz ortogonal\n",
        "𝑉 que contiene los vectores propios de $𝐴^𝑇𝐴$. Dado que\n",
        "𝐴 es una matriz de tamaño 3×3, $𝑉^𝑇$ también será de tamaño 3×3."
      ],
      "metadata": {
        "id": "D0RNM-Dwcsid"
      }
    },
    {
      "cell_type": "code",
      "source": [
        "def es_ortogonal(matriz):\n",
        "    # Calcular la transpuesta de la matriz\n",
        "    matriz_transpuesta = matriz.T\n",
        "\n",
        "    # Multiplicar la matriz por su transpuesta\n",
        "    resultado = np.dot(matriz, matriz_transpuesta)\n",
        "\n",
        "    # Crear una matriz identidad del mismo tamaño\n",
        "    identidad = np.eye(matriz.shape[0])\n",
        "\n",
        "    # Comprobar si el resultado es igual a la matriz identidad\n",
        "    return np.allclose(resultado, identidad)"
      ],
      "metadata": {
        "id": "Vilpw3E6-nQl"
      },
      "execution_count": null,
      "outputs": []
    },
    {
      "cell_type": "code",
      "source": [
        "# Comprueba si la matriz U es ortogonal\n",
        "es_ortogonal(U)"
      ],
      "metadata": {
        "colab": {
          "base_uri": "https://localhost:8080/"
        },
        "id": "NSvz806K-usm",
        "outputId": "2a0c6252-70dc-41ce-afa9-a0646da73040"
      },
      "execution_count": null,
      "outputs": [
        {
          "output_type": "execute_result",
          "data": {
            "text/plain": [
              "True"
            ]
          },
          "metadata": {},
          "execution_count": 18
        }
      ]
    },
    {
      "cell_type": "code",
      "source": [
        "# Crear una matriz de ejemplo\n",
        "x_matriz = np.array([[1, 2, 3],\n",
        "                   [4, 5, 6],\n",
        "                   [7, 8, 9]])\n",
        "\n",
        "print(x_matriz[:,0])\n",
        "print(np.linalg.norm(x_matriz[:,0]))"
      ],
      "metadata": {
        "colab": {
          "base_uri": "https://localhost:8080/"
        },
        "id": "N29gu6vLAL9p",
        "outputId": "a8f4b796-ccab-4784-e986-6276aaa2c899"
      },
      "execution_count": null,
      "outputs": [
        {
          "output_type": "stream",
          "name": "stdout",
          "text": [
            "[1 4 7]\n",
            "8.12403840463596\n"
          ]
        }
      ]
    },
    {
      "cell_type": "markdown",
      "source": [
        "## Tensores y escalares\n",
        "\n",
        "Un tensor es un objeto matemático que generaliza la noción de escalares, vectores y matrices. En términos más simples, un tensor puede ser un número, un vector, una matriz o cualquier colección de estos objetos. En el contexto del aprendizaje profundo y la biblioteca TensorFlow, los tensores se utilizan para representar datos multidimensionales.\n",
        "\n",
        "**Diferencia con Escalar:**\n",
        "\n",
        "Escalar: Es simplemente un número, como 15 o -29. Un escalar tiene magnitud pero no dirección. Puede considerarse un tensor de rango 0, ya que no tiene dimensiones.\n",
        "\n",
        "Tensor: Es un objeto más general que puede contener múltiples escalares organizados en una estructura multidimensional. Por ejemplo, un vector de números es un tensor de rango 1, una matriz es un tensor de rango 2, y así sucesivamente.\n"
      ],
      "metadata": {
        "id": "u0PoUcJIeFNV"
      }
    },
    {
      "cell_type": "code",
      "source": [
        "# Escalar (Tensor de rango 0) o 1, 2, 3... Son matrices o escalares\n",
        "escalar = 29"
      ],
      "metadata": {
        "id": "ibkBvtDheMAF"
      },
      "execution_count": null,
      "outputs": []
    },
    {
      "cell_type": "code",
      "source": [
        "# Vector (Tensor de rango 1)\n",
        "vector = np.array([1, 2, 3])\n",
        "print(\"Vector\\n\", vector)\n",
        "\n",
        "# Matriz (Tensor de rango 2)\n",
        "matriz = np.array([[1, 2, 3], [4, 5, 6], [7, 8, 9]])\n",
        "print(\"Matriz\\n\", matriz)\n",
        "\n",
        "# Tensor de rango 3\n",
        "tensor_3d = np.array([[[1, 2], [3, 4]], [[5, 6], [7, 8]], [[9, 10], [11, 12]]])\n",
        "print(\"Tensor 3D\\n\", tensor_3d)"
      ],
      "metadata": {
        "id": "I6YYI24ZeNVK",
        "colab": {
          "base_uri": "https://localhost:8080/"
        },
        "outputId": "b0d55d22-1f49-4ed2-f071-34e754c7b122"
      },
      "execution_count": null,
      "outputs": [
        {
          "output_type": "stream",
          "name": "stdout",
          "text": [
            "Vector\n",
            " [1 2 3]\n",
            "Matriz\n",
            " [[1 2 3]\n",
            " [4 5 6]\n",
            " [7 8 9]]\n",
            "Tensor 3D\n",
            " [[[ 1  2]\n",
            "  [ 3  4]]\n",
            "\n",
            " [[ 5  6]\n",
            "  [ 7  8]]\n",
            "\n",
            " [[ 9 10]\n",
            "  [11 12]]]\n"
          ]
        }
      ]
    },
    {
      "cell_type": "markdown",
      "source": [
        "En estos ejemplos, *escalar* es un tensor de rango 0, vector es un tensor de rango 1, *matriz* es un tensor de rango 2, y *tensor_3d* es un tensor de rango 3.\n",
        "Los tensores son fundamentales en el aprendizaje profundo (Deep Learning), donde representan datos en conjuntos de muestras con múltiples dimensiones."
      ],
      "metadata": {
        "id": "Un0fSZQieSfZ"
      }
    },
    {
      "cell_type": "markdown",
      "source": [
        "## Operaciones entre vectores"
      ],
      "metadata": {
        "id": "luXCLkZ1ehPk"
      }
    },
    {
      "cell_type": "code",
      "source": [
        "# Suma\n",
        "a = np.array([1, 2, 4])\n",
        "b = np.array([15,25,30])\n",
        "c = a + b\n",
        "print(c)"
      ],
      "metadata": {
        "id": "7uSG1f1RekvW"
      },
      "execution_count": null,
      "outputs": []
    },
    {
      "cell_type": "code",
      "source": [
        "# Resta\n",
        "a = np.array([1, 2, 4])\n",
        "b = np.array([15,25,30])\n",
        "c = a - b\n",
        "print(c)"
      ],
      "metadata": {
        "id": "eyjHV8KIeoH2"
      },
      "execution_count": null,
      "outputs": []
    },
    {
      "cell_type": "code",
      "source": [
        "# Multiplicación\n",
        "a = np.array([1, 2, 4])\n",
        "b = np.array([15,25,30])\n",
        "c = a * b\n",
        "print(c)"
      ],
      "metadata": {
        "id": "7n5ZGVjGeqbR"
      },
      "execution_count": null,
      "outputs": []
    },
    {
      "cell_type": "code",
      "source": [
        "# División\n",
        "a = np.array([1, 2, 4])\n",
        "b = np.array([15,25,30])\n",
        "c = a / b\n",
        "print(c)"
      ],
      "metadata": {
        "id": "pG5Tlz_Peslz"
      },
      "execution_count": null,
      "outputs": []
    },
    {
      "cell_type": "code",
      "source": [
        "# Usando escalares\n",
        "a = np.array([15,3,25])\n",
        "b = a + 7\n",
        "print(b)"
      ],
      "metadata": {
        "id": "bFyBmSR2eu9D"
      },
      "execution_count": null,
      "outputs": []
    },
    {
      "cell_type": "markdown",
      "source": [
        "## Funciones universales"
      ],
      "metadata": {
        "id": "4GFYddSgeyGC"
      }
    },
    {
      "cell_type": "code",
      "source": [
        "valores = np.array([2,3,5,6]) #tensor de rango 1\n",
        "print(\"Elementos\", valores)"
      ],
      "metadata": {
        "id": "RgKXH47Je2Z5"
      },
      "execution_count": null,
      "outputs": []
    },
    {
      "cell_type": "code",
      "source": [
        "# Suma de los valores\n",
        "np.sum(valores)"
      ],
      "metadata": {
        "id": "8mxj0LOce3HL"
      },
      "execution_count": null,
      "outputs": []
    },
    {
      "cell_type": "code",
      "source": [
        "# Acumula los valores del arreglo\n",
        "np.cumsum(valores)"
      ],
      "metadata": {
        "id": "a-sunpMhe6Gw"
      },
      "execution_count": null,
      "outputs": []
    },
    {
      "cell_type": "code",
      "source": [
        "# Obtiene la productoria de los elementos del arreglo\n",
        "np.cumprod(valores)"
      ],
      "metadata": {
        "id": "5ciTwagye8A9"
      },
      "execution_count": null,
      "outputs": []
    },
    {
      "cell_type": "code",
      "source": [
        "valores = np.array([[2,4,5,6],[8,10,15,50]])\n",
        "valores"
      ],
      "metadata": {
        "id": "fEjcOXu3e-Xz"
      },
      "execution_count": null,
      "outputs": []
    },
    {
      "cell_type": "code",
      "source": [
        "# Suma todos lo valores del arreglo bidimensional\n",
        "np.sum(valores)"
      ],
      "metadata": {
        "id": "OGuI1BM_fBOd"
      },
      "execution_count": null,
      "outputs": []
    },
    {
      "cell_type": "code",
      "source": [
        "# Suma los valores por fila\n",
        "np.sum(valores, axis = 1) #devuelve 2 valores"
      ],
      "metadata": {
        "id": "eiLpHQ-0fCAZ"
      },
      "execution_count": null,
      "outputs": []
    },
    {
      "cell_type": "code",
      "source": [
        "# Suma los valores por columna\n",
        "np.sum(valores, axis = 0) #devuelve 4 valores"
      ],
      "metadata": {
        "id": "3Mc-01wUfFQ2"
      },
      "execution_count": null,
      "outputs": []
    },
    {
      "cell_type": "markdown",
      "source": [
        "## Manipulación de forma"
      ],
      "metadata": {
        "id": "6ppt3ZhnfJDU"
      }
    },
    {
      "cell_type": "code",
      "source": [
        "# Creación de los elementos\n",
        "elementos = np.array([[1, 2, 3, 1], [4, 5, 6, 1], [7, 8, 9, 1]]) #rango 2\n",
        "elementos"
      ],
      "metadata": {
        "id": "xUpmpkm0fLm3",
        "colab": {
          "base_uri": "https://localhost:8080/"
        },
        "outputId": "38747939-e310-491d-b72b-1e43ef526bd4"
      },
      "execution_count": null,
      "outputs": [
        {
          "output_type": "execute_result",
          "data": {
            "text/plain": [
              "array([[1, 2, 3, 1],\n",
              "       [4, 5, 6, 1],\n",
              "       [7, 8, 9, 1]])"
            ]
          },
          "metadata": {},
          "execution_count": 7
        }
      ]
    },
    {
      "cell_type": "code",
      "source": [
        "# Obtiene la cantidad de filas y columnas\n",
        "elementos.shape"
      ],
      "metadata": {
        "id": "5UH_0e_ZfP5b",
        "colab": {
          "base_uri": "https://localhost:8080/"
        },
        "outputId": "54b2566b-3ec6-40ad-96c4-f5d083b50422"
      },
      "execution_count": null,
      "outputs": [
        {
          "output_type": "execute_result",
          "data": {
            "text/plain": [
              "(3, 4)"
            ]
          },
          "metadata": {},
          "execution_count": 8
        }
      ]
    },
    {
      "cell_type": "code",
      "source": [
        "# Reorganiza en 4 filas y 3 columnas\n",
        "elementos.reshape(4,3)"
      ],
      "metadata": {
        "id": "B7-Jd3H_fR2p",
        "colab": {
          "base_uri": "https://localhost:8080/"
        },
        "outputId": "818daff4-44cc-40a4-f26a-3f65c0661a45"
      },
      "execution_count": null,
      "outputs": [
        {
          "output_type": "execute_result",
          "data": {
            "text/plain": [
              "array([[1, 2, 3],\n",
              "       [1, 4, 5],\n",
              "       [6, 1, 7],\n",
              "       [8, 9, 1]])"
            ]
          },
          "metadata": {},
          "execution_count": 9
        }
      ]
    },
    {
      "cell_type": "code",
      "source": [
        "# Reorganiza en 2 filas y 6 columnas #no importa el orden siempre que tenga la misma cantidad de elementos\n",
        "elementos.reshape(2,6)"
      ],
      "metadata": {
        "id": "dwbW7XfkfT4E",
        "colab": {
          "base_uri": "https://localhost:8080/"
        },
        "outputId": "0f9e1ba0-e7f6-4025-9525-b1b2ba4e4aa8"
      },
      "execution_count": null,
      "outputs": [
        {
          "output_type": "execute_result",
          "data": {
            "text/plain": [
              "array([[1, 2, 3, 1, 4, 5],\n",
              "       [6, 1, 7, 8, 9, 1]])"
            ]
          },
          "metadata": {},
          "execution_count": 10
        }
      ]
    },
    {
      "cell_type": "code",
      "source": [
        "# Obtiene la traspuesta - Alternativa 1\n",
        "elementos.T"
      ],
      "metadata": {
        "id": "rDcPK2U7fWT3",
        "colab": {
          "base_uri": "https://localhost:8080/"
        },
        "outputId": "fd9fa82a-1efe-4020-977e-0ed390c313bf"
      },
      "execution_count": null,
      "outputs": [
        {
          "output_type": "execute_result",
          "data": {
            "text/plain": [
              "array([[1, 4, 7],\n",
              "       [2, 5, 8],\n",
              "       [3, 6, 9],\n",
              "       [1, 1, 1]])"
            ]
          },
          "metadata": {},
          "execution_count": 11
        }
      ]
    },
    {
      "cell_type": "code",
      "source": [
        "# Obtiene la traspuesta - Alternativa 2\n",
        "elementos.transpose()"
      ],
      "metadata": {
        "id": "hW8aeHXAfYrA",
        "colab": {
          "base_uri": "https://localhost:8080/"
        },
        "outputId": "c757820d-6eae-474c-b8eb-55a111766ebb"
      },
      "execution_count": null,
      "outputs": [
        {
          "output_type": "execute_result",
          "data": {
            "text/plain": [
              "array([[1, 4, 7],\n",
              "       [2, 5, 8],\n",
              "       [3, 6, 9],\n",
              "       [1, 1, 1]])"
            ]
          },
          "metadata": {},
          "execution_count": 12
        }
      ]
    },
    {
      "cell_type": "code",
      "source": [
        "# Obtiene los elementos como una lista - Alternativa 1\n",
        "elementos.ravel()"
      ],
      "metadata": {
        "id": "ypPog-M5fbHn",
        "colab": {
          "base_uri": "https://localhost:8080/"
        },
        "outputId": "0e844fa7-0a59-4f84-cdfd-e031a7b54b0f"
      },
      "execution_count": null,
      "outputs": [
        {
          "output_type": "execute_result",
          "data": {
            "text/plain": [
              "array([1, 2, 3, 1, 4, 5, 6, 1, 7, 8, 9, 1])"
            ]
          },
          "metadata": {},
          "execution_count": 13
        }
      ]
    },
    {
      "cell_type": "code",
      "source": [
        "# Obtiene los elementos como una lista - Alternativa 2\n",
        "elementos.flatten()"
      ],
      "metadata": {
        "id": "9WYMEz-Ofc08",
        "colab": {
          "base_uri": "https://localhost:8080/"
        },
        "outputId": "773888c2-69a6-46ef-967d-4c876119b489"
      },
      "execution_count": null,
      "outputs": [
        {
          "output_type": "execute_result",
          "data": {
            "text/plain": [
              "array([1, 2, 3, 1, 4, 5, 6, 1, 7, 8, 9, 1])"
            ]
          },
          "metadata": {},
          "execution_count": 14
        }
      ]
    },
    {
      "cell_type": "markdown",
      "source": [
        "## Indexación y selección"
      ],
      "metadata": {
        "id": "bx8L0KjFfj4u"
      }
    },
    {
      "cell_type": "code",
      "source": [
        "valores = np.array([20,3,5,6,1,-3,10,45,43,50,4]) #tensor de rango 1, ¿podemos reorganizarlo en un tensor de rango 2?\n",
        "print(\"Elementos\", valores)"
      ],
      "metadata": {
        "id": "j81vtdM_fmuN",
        "colab": {
          "base_uri": "https://localhost:8080/"
        },
        "outputId": "9bbd7d5f-6276-4fef-e730-def9448baf9c"
      },
      "execution_count": null,
      "outputs": [
        {
          "output_type": "stream",
          "name": "stdout",
          "text": [
            "Elementos [20  3  5  6  1 -3 10 45 43 50  4]\n"
          ]
        }
      ]
    },
    {
      "cell_type": "code",
      "source": [
        "len(valores) #¿podemos reorganizarlo en un tensor de rango 2? intentemoslo"
      ],
      "metadata": {
        "colab": {
          "base_uri": "https://localhost:8080/"
        },
        "id": "AJH0Iy8MsnU4",
        "outputId": "2a4bfe0b-2139-4bf4-88c4-9841a5e8103e"
      },
      "execution_count": null,
      "outputs": [
        {
          "output_type": "execute_result",
          "data": {
            "text/plain": [
              "11"
            ]
          },
          "metadata": {},
          "execution_count": 18
        }
      ]
    },
    {
      "cell_type": "code",
      "source": [
        "valores.reshape(3.4) #no, no se puede"
      ],
      "metadata": {
        "colab": {
          "base_uri": "https://localhost:8080/",
          "height": 144
        },
        "id": "uKtz7iQxs91Y",
        "outputId": "7e9b4d17-2f5b-4649-b8fb-222dba824cf1"
      },
      "execution_count": null,
      "outputs": [
        {
          "output_type": "error",
          "ename": "TypeError",
          "evalue": "expected a sequence of integers or a single integer, got '3.0'",
          "traceback": [
            "\u001b[0;31m---------------------------------------------------------------------------\u001b[0m",
            "\u001b[0;31mTypeError\u001b[0m                                 Traceback (most recent call last)",
            "\u001b[0;32m<ipython-input-34-12d1bfb04489>\u001b[0m in \u001b[0;36m<cell line: 1>\u001b[0;34m()\u001b[0m\n\u001b[0;32m----> 1\u001b[0;31m \u001b[0mvalores\u001b[0m\u001b[0;34m.\u001b[0m\u001b[0mreshape\u001b[0m\u001b[0;34m(\u001b[0m\u001b[0;36m3.0\u001b[0m\u001b[0;34m)\u001b[0m \u001b[0;31m#no, no se puede\u001b[0m\u001b[0;34m\u001b[0m\u001b[0;34m\u001b[0m\u001b[0m\n\u001b[0m",
            "\u001b[0;31mTypeError\u001b[0m: expected a sequence of integers or a single integer, got '3.0'"
          ]
        }
      ]
    },
    {
      "cell_type": "code",
      "source": [
        "# Acceso a un elemento, por su índice\n",
        "valores[4]"
      ],
      "metadata": {
        "id": "2ALjGqB4fo0Y",
        "colab": {
          "base_uri": "https://localhost:8080/"
        },
        "outputId": "96c5607a-add1-4aa5-d1ea-a970ad3a96e0"
      },
      "execution_count": null,
      "outputs": [
        {
          "output_type": "execute_result",
          "data": {
            "text/plain": [
              "1"
            ]
          },
          "metadata": {},
          "execution_count": 33
        }
      ]
    },
    {
      "cell_type": "code",
      "source": [
        "# Selección con uso de slice - Versión 1\n",
        "valores[:2] # devuelve los primeros 2 elementos"
      ],
      "metadata": {
        "id": "Y4gagsrcfq-9",
        "colab": {
          "base_uri": "https://localhost:8080/"
        },
        "outputId": "f2404011-52f7-44f5-cc09-d8c4c5b22e1e"
      },
      "execution_count": null,
      "outputs": [
        {
          "output_type": "execute_result",
          "data": {
            "text/plain": [
              "array([20,  3])"
            ]
          },
          "metadata": {},
          "execution_count": 35
        }
      ]
    },
    {
      "cell_type": "code",
      "source": [
        "# Selección con uso de slice - Versión 2\n",
        "valores[4:]"
      ],
      "metadata": {
        "id": "wVi5gTibftE_",
        "colab": {
          "base_uri": "https://localhost:8080/"
        },
        "outputId": "9d23bbbf-6866-440e-c728-ab2ddf489f54"
      },
      "execution_count": null,
      "outputs": [
        {
          "output_type": "execute_result",
          "data": {
            "text/plain": [
              "array([ 1, -3, 10, 45, 43, 50,  4])"
            ]
          },
          "metadata": {},
          "execution_count": 36
        }
      ]
    },
    {
      "cell_type": "code",
      "source": [
        "# Selección con uso de slice - Versión 3\n",
        "valores[4:10]"
      ],
      "metadata": {
        "id": "pE-WtrwQfvQw",
        "colab": {
          "base_uri": "https://localhost:8080/"
        },
        "outputId": "8542154d-57ef-499b-91ed-f8d78998bb10"
      },
      "execution_count": null,
      "outputs": [
        {
          "output_type": "execute_result",
          "data": {
            "text/plain": [
              "array([ 1, -3, 10, 45, 43, 50])"
            ]
          },
          "metadata": {},
          "execution_count": 37
        }
      ]
    },
    {
      "cell_type": "code",
      "source": [
        "# Selección usando condición\n",
        "valores[valores > 15]"
      ],
      "metadata": {
        "id": "viHSfkwQfxXf",
        "colab": {
          "base_uri": "https://localhost:8080/"
        },
        "outputId": "bceb24d8-a576-4422-8868-f0836cd6e18f"
      },
      "execution_count": null,
      "outputs": [
        {
          "output_type": "execute_result",
          "data": {
            "text/plain": [
              "array([20, 45, 43, 50])"
            ]
          },
          "metadata": {},
          "execution_count": 38
        }
      ]
    },
    {
      "cell_type": "markdown",
      "source": [
        "# Probabilidad"
      ],
      "metadata": {
        "id": "HsFir4cncch0"
      }
    },
    {
      "cell_type": "markdown",
      "source": [
        "## Distribución normal\n",
        "\n",
        "Las distribuciones normales son fundamentales en probabilidad y estadísticas y son ampliamente utilizadas en IA, por ejemplo, en técnicas de regresión y modelos probabilísticos."
      ],
      "metadata": {
        "id": "9nuAsEx7dOQy"
      }
    },
    {
      "cell_type": "code",
      "source": [
        "# Definir parámetros de la distribución\n",
        "media = 0\n",
        "desviacion_estandar = 1\n",
        "\n",
        "# Generar una distribución normal\n",
        "x = np.linspace(-5, 5, 100)\n",
        "y = norm.pdf(x, media, desviacion_estandar)\n",
        "\n",
        "# Graficar la distribución\n",
        "plt.plot(x, y)\n",
        "plt.title(\"Distribución Normal\")\n",
        "plt.xlabel(\"Valor\")\n",
        "plt.ylabel(\"Densidad de probabilidad\")\n",
        "plt.show()\n"
      ],
      "metadata": {
        "id": "DRqCKoi0dTdb",
        "colab": {
          "base_uri": "https://localhost:8080/",
          "height": 472
        },
        "outputId": "bebb0ff7-5b32-4f4d-c288-406d525bd84f"
      },
      "execution_count": null,
      "outputs": [
        {
          "output_type": "display_data",
          "data": {
            "text/plain": [
              "<Figure size 640x480 with 1 Axes>"
            ],
            "image/png": "[encoded data removed]"
          },
          "metadata": {}
        }
      ]
    },
    {
      "cell_type": "markdown",
      "source": [
        "## Teorema de Bayes\n",
        "\n",
        "El teorema de Bayes se utiliza en métodos de clasificación como el clasificador Naive Bayes y en la inferencia probabilística en redes bayesianas."
      ],
      "metadata": {
        "id": "EiTzlcYhdbk2"
      }
    },
    {
      "cell_type": "code",
      "source": [
        "# Probabilidades previas\n",
        "p_A = 0.4\n",
        "p_B = 0.6\n",
        "\n",
        "# Probabilidad condicional\n",
        "p_B_dado_A = 0.7\n",
        "\n",
        "# Aplicar el teorema de Bayes\n",
        "p_A_dado_B = (p_B_dado_A * p_A) / p_B\n",
        "\n",
        "print(\"P(A|B) usando el Teorema de Bayes:\", p_A_dado_B)\n"
      ],
      "metadata": {
        "id": "Ek58oAo0dfCF",
        "colab": {
          "base_uri": "https://localhost:8080/"
        },
        "outputId": "d1438b59-ae65-438d-c3d1-b018cdc5d7d9"
      },
      "execution_count": null,
      "outputs": [
        {
          "output_type": "stream",
          "name": "stdout",
          "text": [
            "P(A|B) usando el Teorema de Bayes: 0.4666666666666666\n"
          ]
        }
      ]
    }
  ]
}